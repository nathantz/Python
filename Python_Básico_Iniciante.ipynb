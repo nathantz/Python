{
  "nbformat": 4,
  "nbformat_minor": 0,
  "metadata": {
    "colab": {
      "name": "Python Básico - Iniciante",
      "provenance": [],
      "collapsed_sections": [],
      "authorship_tag": "ABX9TyNLcK3cwt/bmQGkizZkpzy1",
      "include_colab_link": true
    },
    "kernelspec": {
      "name": "python3",
      "display_name": "Python 3"
    }
  },
  "cells": [
    {
      "cell_type": "markdown",
      "metadata": {
        "id": "view-in-github",
        "colab_type": "text"
      },
      "source": [
        "<a href=\"https://colab.research.google.com/github/nathantz/Python---Machine-Learning/blob/main/Python_B%C3%A1sico_Iniciante.ipynb\" target=\"_parent\"><img src=\"https://colab.research.google.com/assets/colab-badge.svg\" alt=\"Open In Colab\"/></a>"
      ]
    },
    {
      "cell_type": "markdown",
      "metadata": {
        "id": "CyHJ5L_rHTi7"
      },
      "source": [
        "**Definindo variáveis e escrevendo**"
      ]
    },
    {
      "cell_type": "code",
      "metadata": {
        "colab": {
          "base_uri": "https://localhost:8080/"
        },
        "id": "IvrOecH-GevD",
        "outputId": "7263947c-d9c2-4a12-a326-dedae193d917"
      },
      "source": [
        "nome = \"Michael\"\r\n",
        "print(nome)\r\n",
        "\r\n",
        "idade = 21\r\n",
        "idade #não há a necessidade de usar explicitamente o comando print()\r\n",
        "\r\n",
        "#mais um exemplo de escrita de uma variável\r\n",
        "print(idade + 9)\r\n",
        "idade + 9"
      ],
      "execution_count": 2,
      "outputs": [
        {
          "output_type": "stream",
          "text": [
            "Michael\n",
            "30\n"
          ],
          "name": "stdout"
        },
        {
          "output_type": "execute_result",
          "data": {
            "text/plain": [
              "30"
            ]
          },
          "metadata": {
            "tags": []
          },
          "execution_count": 2
        }
      ]
    },
    {
      "cell_type": "markdown",
      "metadata": {
        "id": "nCQk_wPEIOY8"
      },
      "source": [
        "**Funções**\r\n",
        "\r\n",
        "Para declararmos uma função em Python utiliza-se a *tag* **def**. Essa tag é finalizada por dois pontos (:) que indicará o início do corpo da função.\r\n",
        "\r\n",
        "O corpo de uma função, após a escrita do ':' vem identado, ou seja, é possível verificar a presença de um espaço (TAB) que, na linguagem Python, é utilizado para caracterizar tudo o que compõe o corpo de uma função."
      ]
    },
    {
      "cell_type": "code",
      "metadata": {
        "colab": {
          "base_uri": "https://localhost:8080/"
        },
        "id": "rDXOmb0DITaM",
        "outputId": "ffa7e59e-fe42-435c-c0b0-908b9e51efee"
      },
      "source": [
        "def incrementaIdade(idade):\r\n",
        "  return idade+1\r\n",
        "\r\n",
        "#executando a função\r\n",
        "incrementaIdade(21)"
      ],
      "execution_count": 3,
      "outputs": [
        {
          "output_type": "execute_result",
          "data": {
            "text/plain": [
              "22"
            ]
          },
          "metadata": {
            "tags": []
          },
          "execution_count": 3
        }
      ]
    },
    {
      "cell_type": "markdown",
      "metadata": {
        "id": "84YIkErpL2cE"
      },
      "source": [
        "**Listas**\r\n",
        "\r\n",
        "As listas nada mais são do que uma variável um pouquinho mais complexa, onde nos possibilita aninhar mais de uma variável em uma única variável, que é a LISTA.\r\n",
        "\r\n",
        "Em Python, nós podemos definir uma lista por meio do uso de colchetes '[ ]' ou explicitamente, por meio do comando list().\r\n",
        "\r\n",
        "**IMPORTANTE:** os elementos de uma lista começam a contagem com o elemento 0."
      ]
    },
    {
      "cell_type": "code",
      "metadata": {
        "colab": {
          "base_uri": "https://localhost:8080/"
        },
        "id": "bBaJ-J-HLQGy",
        "outputId": "273f817c-2a96-4fc2-de9f-1b54a9810779"
      },
      "source": [
        "filme1 = \"Toy Story 2\"\r\n",
        "filme2 = \"Vingadores\"\r\n",
        "filme3 = \"Matrix 1\"\r\n",
        "\r\n",
        "filmes = ['Toy Story 2', 'Vingadores', 'Matrix 1']\r\n",
        "filmes_alternativo = [filme1, filme2, filme3]\r\n",
        "\r\n",
        "#escrevendo as listas\r\n",
        "print(filmes)\r\n",
        "print(filmes_alternativo)\r\n",
        "\r\n",
        "#acessando elementos da lista\r\n",
        "filmes[0]\r\n",
        "filmes_alternativo[2]\r\n",
        "\r\n",
        "#como recuperar o último elemento da lista?\r\n",
        "filmes[-1]\r\n",
        "\r\n",
        "#selecionando um intervalo da lista\r\n",
        "filmes_alternativo[1:] #seleciona do elemento 1 para frente\r\n",
        "filmes_alternativo[-2:] #seleciona do penúltimo elemento para frente"
      ],
      "execution_count": 4,
      "outputs": [
        {
          "output_type": "stream",
          "text": [
            "['Toy Story 2', 'Vingadores', 'Matrix 1']\n",
            "['Toy Story 2', 'Vingadores', 'Matrix 1']\n"
          ],
          "name": "stdout"
        },
        {
          "output_type": "execute_result",
          "data": {
            "text/plain": [
              "['Vingadores', 'Matrix 1']"
            ]
          },
          "metadata": {
            "tags": []
          },
          "execution_count": 4
        }
      ]
    },
    {
      "cell_type": "markdown",
      "metadata": {
        "id": "PK_G1kDcNelS"
      },
      "source": [
        "**For**\r\n",
        "\r\n",
        "É um comando, assim como nas demais linguagens, onde realizamos a execução de um *loop* para percorrer uma lista ou realizar alguma outra operação."
      ]
    },
    {
      "cell_type": "code",
      "metadata": {
        "colab": {
          "base_uri": "https://localhost:8080/"
        },
        "id": "1bqpe77GNwdR",
        "outputId": "309f3036-dedb-4988-95c7-40597df4d4bf"
      },
      "source": [
        "#percorrendo os elementos da lista 'filmes'\r\n",
        "for filme in filmes: #variavel 'filme' percorre a lista 'filmes'\r\n",
        "  print(filme)"
      ],
      "execution_count": 5,
      "outputs": [
        {
          "output_type": "stream",
          "text": [
            "Toy Story 2\n",
            "Vingadores\n",
            "Matrix 1\n"
          ],
          "name": "stdout"
        }
      ]
    },
    {
      "cell_type": "markdown",
      "metadata": {
        "id": "TOwbok3IOJT3"
      },
      "source": [
        "**Exemplo: utilizando um For dentro de uma função.**"
      ]
    },
    {
      "cell_type": "code",
      "metadata": {
        "colab": {
          "base_uri": "https://localhost:8080/"
        },
        "id": "dTpnnx5yOYSP",
        "outputId": "332ca97e-9674-48e8-ff37-83c823e037bc"
      },
      "source": [
        "def imprimeFilmes(filmes):\r\n",
        "  for filme in filmes:\r\n",
        "    print('Meus filmes:\\n') #'\\n' é utilizado para pular uma linha como visto no output abaixo\r\n",
        "    print(filme)\r\n",
        "\r\n",
        "#executando a função\r\n",
        "imprimeFilmes(filmes)"
      ],
      "execution_count": 8,
      "outputs": [
        {
          "output_type": "stream",
          "text": [
            "Meus filmes:\n",
            "\n",
            "Toy Story 2\n",
            "Meus filmes:\n",
            "\n",
            "Vingadores\n",
            "Meus filmes:\n",
            "\n",
            "Matrix 1\n"
          ],
          "name": "stdout"
        }
      ]
    },
    {
      "cell_type": "markdown",
      "metadata": {
        "id": "Qi4lYqzUO6pJ"
      },
      "source": [
        "**Dicionário**\r\n",
        "\r\n",
        "É uma variável composta por um ou mais conjuntos de chaves e valores, que em sua funcionalidade se comportam como um dicionário que conhecemos.\r\n",
        "\r\n",
        "Diferentemente das listas, um dicionário é definido utilizando chaves '{ }'."
      ]
    },
    {
      "cell_type": "code",
      "metadata": {
        "colab": {
          "base_uri": "https://localhost:8080/"
        },
        "id": "v0iACD31PRD1",
        "outputId": "8bed4a29-b443-4223-de85-2b55583e7794"
      },
      "source": [
        "#definindo o dicionário\r\n",
        "dados_aluno = {'Nome':'Nathan',\r\n",
        "               'Idade':21,\r\n",
        "               'Grau de escolaridade':'Ensino Superior'}\r\n",
        "\r\n",
        "#escrevendo o dicionário\r\n",
        "dados_aluno\r\n",
        "\r\n",
        "#selecionando cada característica do dicionário\r\n",
        "print(dados_aluno['Nome'])\r\n",
        "print(dados_aluno['Idade'])\r\n",
        "print(dados_aluno['Grau de escolaridade'])"
      ],
      "execution_count": 13,
      "outputs": [
        {
          "output_type": "stream",
          "text": [
            "Nathan\n",
            "21\n",
            "Ensino Superior\n"
          ],
          "name": "stdout"
        }
      ]
    }
  ]
}