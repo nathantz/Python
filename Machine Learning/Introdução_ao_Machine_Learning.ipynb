{
  "nbformat": 4,
  "nbformat_minor": 0,
  "metadata": {
    "colab": {
      "name": "Introdução ao Machine Learning",
      "provenance": [],
      "collapsed_sections": []
    },
    "kernelspec": {
      "name": "python3",
      "display_name": "Python 3"
    }
  },
  "cells": [
    {
      "cell_type": "markdown",
      "metadata": {
        "id": "jkJrcFZb0GEN"
      },
      "source": [
        "**Estudo prático**\r\n",
        "\r\n",
        "Para darmos início à temática do Machine Learning, vamos supor um exemplo onde almejamos que o nosso algoritmo possa fazer a distinção entre um porco e um cachorro.\r\n",
        "\r\n",
        "Algumas características do porco:\r\n",
        "* tem pelo longo?\r\n",
        "* tem perna curta?\r\n",
        "* faz \"auau\"?\r\n",
        "\r\n",
        "**IMPORTANTE:** para considerar ou desconsiderar cada uma dessas características, tomamos por base que o valor **0** indica a presença da característica e o valor **1** indica a ausência da característica."
      ]
    },
    {
      "cell_type": "code",
      "metadata": {
        "id": "ItJfrItIzgJa"
      },
      "source": [
        "porco1 = [0, 1, 0]\r\n",
        "porco2 = [0, 1, 1]\r\n",
        "porco3 = [1, 1, 0]\r\n",
        "\r\n",
        "cachorro1 = [0, 1, 1]\r\n",
        "cachorro2 = [1, 0, 1]\r\n",
        "cachorro3 = [1, 1, 1]\r\n",
        "\r\n",
        "# logo podemos incluir em um array ou lista todos os nossos animais\r\n",
        "animais = [porco1, porco2, porco3, cachorro1, cachorro2, cachorro3]"
      ],
      "execution_count": null,
      "outputs": []
    },
    {
      "cell_type": "markdown",
      "metadata": {
        "id": "AH1TsL9K2Q0S"
      },
      "source": [
        "Em Machine Learning não se pode simplesmente pegar informações e pedir para o algoritmo fazer e pronto! Calma aí...kk\r\n",
        "\r\n",
        "Para que possamos usufruir dessa tecnologia a três conceitos importantes a se definirem:\r\n",
        "\r\n",
        "a) Treino: é o conjunto de dados que serão utilizados para treinar o algoritmo e assim permitir que ele tenha um certo \"conhecimento\", do que é um cachorro e um porco; no nosso caso o treino será a variável **animais** definida anteriormente.\r\n",
        "\r\n",
        "b) Teste: é o conjunto de dados que, após treinar o algoritmo, será utilizado para fazer a validação do mesmo, ou seja, é por meio dos dados de teste que podemos analisar a eficácia ou precisão do nosso algoritmo.\r\n",
        "\r\n",
        "c) Classificação: são as classes ou grupos em que o meu algoritmo deve aprender a classificar, nesse caso as classes são o cachorro e o porco."
      ]
    },
    {
      "cell_type": "code",
      "metadata": {
        "id": "Cyz8F2uK3jkw"
      },
      "source": [
        "# Aqui serão definidas as classes em que se deve fazer a classificação, onde o porco é da classe 1 e o cachorro da classe 0\r\n",
        "classificacao = [1, 1, 1, 0, 0, 0]"
      ],
      "execution_count": null,
      "outputs": []
    },
    {
      "cell_type": "markdown",
      "metadata": {
        "id": "dTHEmCvj5C_Y"
      },
      "source": [
        "Entretanto, na programação o nome atribuído às variáveis de treino e classificação são dados por : **treino_x** e **treino_y**. Em nosso exemplo, esses variáveis serão, respectivamente, **animais** e **classificacao**."
      ]
    },
    {
      "cell_type": "code",
      "metadata": {
        "colab": {
          "base_uri": "https://localhost:8080/"
        },
        "id": "y5WQRqfa5fXE",
        "outputId": "d004c833-641c-49fb-9516-336ab3fd766c"
      },
      "source": [
        "# substituindo o nome das variaveis\r\n",
        "treino_x = animais # ou se preferir pode atribuir como na variavel animais\r\n",
        "treino_y = classificacao\r\n",
        "\r\n",
        "#verificando as novas variaveis\r\n",
        "print(treino_x)"
      ],
      "execution_count": null,
      "outputs": [
        {
          "output_type": "stream",
          "text": [
            "[[0, 1, 0], [0, 1, 1], [1, 1, 0], [0, 1, 1], [1, 0, 1], [1, 1, 1]]\n"
          ],
          "name": "stdout"
        }
      ]
    },
    {
      "cell_type": "code",
      "metadata": {
        "colab": {
          "base_uri": "https://localhost:8080/"
        },
        "id": "DV58Vvn55z3d",
        "outputId": "2395f0d5-b659-4c09-87d0-f8324a641d5f"
      },
      "source": [
        "print(treino_y)"
      ],
      "execution_count": null,
      "outputs": [
        {
          "output_type": "stream",
          "text": [
            "[1, 1, 1, 0, 0, 0]\n"
          ],
          "name": "stdout"
        }
      ]
    },
    {
      "cell_type": "markdown",
      "metadata": {
        "id": "5iSqfJOI6BBZ"
      },
      "source": [
        "**Construindo nosso algoritmo**\r\n",
        "\r\n",
        "A documentação do Python oferece uma gama de possibilidade, mas quando falamos de Machine Learning (ML), uma biblioteca em particular se destaca: **Scikit-Learn**.\r\n",
        "\r\n",
        "Por meio dela podemos utilizar diversos recursos ou algoritmos de classificação para podermos aplicar o conceito de ML. \r\n",
        "\r\n",
        "Por isso fica a dica lá na documentação: https://scikit-learn.org/stable/"
      ]
    },
    {
      "cell_type": "code",
      "metadata": {
        "colab": {
          "base_uri": "https://localhost:8080/"
        },
        "id": "DSBMQsAy6yLf",
        "outputId": "89a93cb8-e9a4-4ac1-9af8-6679a6acd1fd"
      },
      "source": [
        "# importando a biblioteca sklearn que eh a mesma do Scikit-Learn\r\n",
        "from sklearn.svm import LinearSVC # o classificador que estamos importando eh um bem simples chamado LinearSVC\r\n",
        "modelo = LinearSVC()\r\n",
        "modelo.fit(treino_x, treino_y)"
      ],
      "execution_count": null,
      "outputs": [
        {
          "output_type": "execute_result",
          "data": {
            "text/plain": [
              "LinearSVC(C=1.0, class_weight=None, dual=True, fit_intercept=True,\n",
              "          intercept_scaling=1, loss='squared_hinge', max_iter=1000,\n",
              "          multi_class='ovr', penalty='l2', random_state=None, tol=0.0001,\n",
              "          verbose=0)"
            ]
          },
          "metadata": {
            "tags": []
          },
          "execution_count": 6
        }
      ]
    },
    {
      "cell_type": "markdown",
      "metadata": {
        "id": "pl9T5x017X99"
      },
      "source": [
        "Quando instanciamos o modelo ao qual queremos trabalhar, ele atuará como um cérebro vazio onde não se tem conhecimento de \"nadica de nada\". Por isso, o nosso modelo definido na variável **modelo** deve ser treinado e realizamos isso por meio do método **fit**, na qual passamos as duas variáveis de treino anteriormente definidas: treino_x e treino_y.\r\n",
        "\r\n",
        "Pronto! O nosso algoritmo/modelo está treinado."
      ]
    },
    {
      "cell_type": "markdown",
      "metadata": {
        "id": "cOffWikd8RpO"
      },
      "source": [
        "**Bom, mas e agora?**\r\n",
        "\r\n",
        "Bora ver como o nosso algoritmo se sai...\r\n",
        "\r\n",
        "Para isso vamos definir um outro animal, na qual não sabemos inicialmente a que classe ele pertence e vamos pedir para o nosso algoritmo dizer o que ele acha que é."
      ]
    },
    {
      "cell_type": "code",
      "metadata": {
        "colab": {
          "base_uri": "https://localhost:8080/"
        },
        "id": "ELmBYUPa8l_E",
        "outputId": "7e23966b-8698-4a3f-9b5f-0b44ef8a269f"
      },
      "source": [
        "animal_misterioso = [1, 1, 1 ] #isso definimos de forma aleatória\r\n",
        "\r\n",
        "#pedimos para o nosso algoritmo predizer o que seria esse tal animal misterioso\r\n",
        "que_animal_e_esse = modelo.predict([animal_misterioso]) #note que coloquei nossa variavel dentro de colchetes, pois por padrao o metodo predict rece uma lista\r\n",
        "\r\n",
        "if que_animal_e_esse == 0:\r\n",
        "  print('Cachorro')\r\n",
        "else:\r\n",
        "  print('Porco')"
      ],
      "execution_count": null,
      "outputs": [
        {
          "output_type": "stream",
          "text": [
            "Cachorro\n"
          ],
          "name": "stdout"
        }
      ]
    },
    {
      "cell_type": "markdown",
      "metadata": {
        "id": "jTxqgr1z-HOO"
      },
      "source": [
        "Uau! Como no nosso conhecimento sabíamos que seria um cachorro a partir das características, o algoritmo preveu corretamente.\r\n",
        "\r\n",
        "Mas vamos \"tornar mais difícil\" para o algoritmo. Vamos definir vários animais para ele classificar e depois medirmos uma métrica chamada **acurácia** onde verificamos a taxa de acerto sobre o total de dados."
      ]
    },
    {
      "cell_type": "code",
      "metadata": {
        "colab": {
          "base_uri": "https://localhost:8080/"
        },
        "id": "bXCvxPjDBY7g",
        "outputId": "e1f68cb5-a36a-43ba-e402-ba1d29178d8e"
      },
      "source": [
        "misterio1 = [1, 0, 0]\r\n",
        "misterio2 = [0, 0, 0]\r\n",
        "misterio3 = [1, 1, 0]\r\n",
        "\r\n",
        "teste_x = [misterio1, misterio2, misterio3]\r\n",
        "teste_y = [1, 1, 1] #essa eh a classificacao que damos por que sabemos a partir das caracteristicas atribuidas\r\n",
        "\r\n",
        "classifique_para_mim = modelo.predict(teste_x)\r\n",
        "\r\n",
        "for classe in classifique_para_mim:\r\n",
        "  if classe == 0:\r\n",
        "    print('Cachorro')\r\n",
        "  else:\r\n",
        "    print('Porco')"
      ],
      "execution_count": null,
      "outputs": [
        {
          "output_type": "stream",
          "text": [
            "Porco\n",
            "Porco\n",
            "Porco\n"
          ],
          "name": "stdout"
        }
      ]
    },
    {
      "cell_type": "markdown",
      "metadata": {
        "id": "6c_SlMRfCZXT"
      },
      "source": [
        "Veja que o nosso algoritmo acertou em cheio tudo o que pedimos para ele, mas tome muito cuidado pois é impossível que haja tanta precisão assim logo de cara. Se isso acontecer, algo está errado!\r\n",
        "\r\n",
        "Mas como isso é um exemplo da funcionalidade vamos deixar passar..."
      ]
    },
    {
      "cell_type": "code",
      "metadata": {
        "colab": {
          "base_uri": "https://localhost:8080/"
        },
        "id": "ELki-bV7Ct6p",
        "outputId": "caa54617-23f9-4483-8157-53d38db4e75e"
      },
      "source": [
        "from sklearn.metrics import accuracy_score #importanto metodo para avaliar a acuracia\r\n",
        "\r\n",
        "print('Acurácia = ', accuracy_score(teste_y, classifique_para_mim))"
      ],
      "execution_count": null,
      "outputs": [
        {
          "output_type": "stream",
          "text": [
            "Acurácia =  1.0\n"
          ],
          "name": "stdout"
        }
      ]
    },
    {
      "cell_type": "markdown",
      "metadata": {
        "id": "b0gwsb2WFr6y"
      },
      "source": [
        "Mano, mas temos que toda hora ficar dividindo os nossos dados em treino e teste? A resposta é SIM e NÃO. Em python, há um método chamado **train_test_split** onde ele realiza esse trabalho para nós. Para ficar mais claro, veja o seguinte:"
      ]
    },
    {
      "cell_type": "code",
      "metadata": {
        "colab": {
          "base_uri": "https://localhost:8080/"
        },
        "id": "N4FEYIa3GEHd",
        "outputId": "5ce784c1-fdbd-497b-cd52-984f7a5d8aaa"
      },
      "source": [
        "from sklearn.model_selection import train_test_split\r\n",
        "modelo = LinearSVC()\r\n",
        "treino_x, teste_x, treino_y, teste_y = train_test_split(animais, classificacao)\r\n",
        "\r\n",
        "modelo.fit(treino_x, treino_y)"
      ],
      "execution_count": 14,
      "outputs": [
        {
          "output_type": "execute_result",
          "data": {
            "text/plain": [
              "LinearSVC(C=1.0, class_weight=None, dual=True, fit_intercept=True,\n",
              "          intercept_scaling=1, loss='squared_hinge', max_iter=1000,\n",
              "          multi_class='ovr', penalty='l2', random_state=None, tol=0.0001,\n",
              "          verbose=0)"
            ]
          },
          "metadata": {
            "tags": []
          },
          "execution_count": 14
        }
      ]
    },
    {
      "cell_type": "code",
      "metadata": {
        "colab": {
          "base_uri": "https://localhost:8080/"
        },
        "id": "RH5Y6YF5HdDq",
        "outputId": "6e1dfe1a-c12c-49b2-f029-a1864055b6f3"
      },
      "source": [
        "previsoes = modelo.predict(teste_x)\r\n",
        "print('Acurácia', accuracy_score(teste_y, previsoes))"
      ],
      "execution_count": 15,
      "outputs": [
        {
          "output_type": "stream",
          "text": [
            "Acurácia 0.5\n"
          ],
          "name": "stdout"
        }
      ]
    },
    {
      "cell_type": "markdown",
      "metadata": {
        "id": "k-JujjY3Hybx"
      },
      "source": [
        "Veja que o valor da acurácia já houve uma brusca diferenciação, me relação ao modo manual que havíamos feito. É importante lembrar que o método **train_test_split** possui inúmeros parâmetros que podem ser passados e que aqui não cabe ser comentado; para verificar isso acesse a documentação do **sklearn**."
      ]
    },
    {
      "cell_type": "markdown",
      "metadata": {
        "id": "76S9okWVJ-KX"
      },
      "source": [
        "**Matriz de Confusão**\r\n",
        "\r\n",
        "Por fim venho trazer um conceito muito interessante e importante do Machine Learning, que é a Matriz de Confusão. Ela é, como o próprio nome diz, uma matriz onde conseguimos analisar os resultados obtidos por um algoritmo por meio de quatro parâmetros: Verdadeiro Positivo (VP), Verdadeiro Negativo (VN), Falso Positivo (FP) e Falso Negativo (FN).\r\n",
        "\r\n",
        "Conseguimos acessar essa funcionalidade por meio da própria biblioteca **sklearn**. Vamos lá?"
      ]
    },
    {
      "cell_type": "code",
      "metadata": {
        "colab": {
          "base_uri": "https://localhost:8080/"
        },
        "id": "c_rqAVhKKtdX",
        "outputId": "59ad6cef-7b5e-4fc6-9069-3312fdab30c0"
      },
      "source": [
        "from sklearn.metrics import confusion_matrix\r\n",
        "\r\n",
        "confusao = confusion_matrix(teste_y, previsoes)\r\n",
        "\r\n",
        "print(confusao)"
      ],
      "execution_count": 19,
      "outputs": [
        {
          "output_type": "stream",
          "text": [
            "[[1 0]\n",
            " [1 0]]\n"
          ],
          "name": "stdout"
        }
      ]
    },
    {
      "cell_type": "markdown",
      "metadata": {
        "id": "axikHquDLmcf"
      },
      "source": [
        "Parece meio bizarro como a matrix é gerada, mas essa é uma visualização bem simples, podendo ter outros parâmetros. Mas nas suas características gerais, ela pode ser interpretada da seguinte forma:\r\n",
        "\r\n",
        "* as linhas indicam a verdadeira classe dos animais;\r\n",
        "* as colunas indicam as classes preditas por nosso algoritmo.\r\n",
        "\r\n",
        "Ou seja, na posição (0,0) da matriz vemos que era porco e o algoritmo disse que era porco. Na posição (0,1) da matriz vemos que não era um porco e o algoritmo também disse que não era; o mecanismo é tratado dessa forma para todas as posições, mas calma que o algoritmo faz isso por você!\r\n",
        "\r\n",
        "Se voltar um pouquinho nesse estudo, você vai ver que a acurácia havia dado 50% (0.5) utilizando a função **train_test_split** e claramente vemos que ela é visível na matriz de confusão, onde o \"erro' gerado pelo algoritmo está na posição (1,0) da matriz."
      ]
    }
  ]
}